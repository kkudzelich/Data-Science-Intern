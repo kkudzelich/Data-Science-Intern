{
 "cells": [
  {
   "cell_type": "markdown",
   "metadata": {},
   "source": [
    "# <font color = #32CD32> Part 1: Import Libraries and Dataset"
   ]
  },
  {
   "cell_type": "markdown",
   "metadata": {},
   "source": [
    "### <h2> 1.1. Import Libraries</h2>"
   ]
  },
  {
   "cell_type": "code",
   "execution_count": 1,
   "metadata": {},
   "outputs": [],
   "source": [
    "import warnings\n",
    "import pandas as pd\n",
    "import numpy as np\n",
    "import matplotlib.pyplot as plt\n",
    "import seaborn as sns\n",
    "# Set the style of seaborn\n",
    "sns.set_palette(\"muted\")\n",
    "from scipy import stats\n",
    "from sklearn.model_selection import train_test_split\n",
    "from sklearn.linear_model import LinearRegression, Lasso, Ridge\n",
    "from sklearn.metrics import mean_squared_error\n",
    "from sklearn.model_selection import train_test_split\n",
    "from sklearn.preprocessing import StandardScaler, OneHotEncoder\n",
    "from sklearn.compose import ColumnTransformer\n",
    "from sklearn.ensemble import RandomForestRegressor\n",
    "from xgboost import XGBRegressor\n",
    "from sklearn.model_selection import GridSearchCV\n",
    "\n",
    "import pickle\n",
    "\n",
    "warnings.filterwarnings(\"ignore\")"
   ]
  },
  {
   "cell_type": "markdown",
   "metadata": {},
   "source": [
    "### <h2> 1.2. Read data from Week 3 - notebook \"G2M(EDA & Hypothesis Testing).ipynb\" </h2>"
   ]
  },
  {
   "cell_type": "code",
   "execution_count": 2,
   "metadata": {},
   "outputs": [
    {
     "data": {
      "text/html": [
       "<div>\n",
       "<style scoped>\n",
       "    .dataframe tbody tr th:only-of-type {\n",
       "        vertical-align: middle;\n",
       "    }\n",
       "\n",
       "    .dataframe tbody tr th {\n",
       "        vertical-align: top;\n",
       "    }\n",
       "\n",
       "    .dataframe thead th {\n",
       "        text-align: right;\n",
       "    }\n",
       "</style>\n",
       "<table border=\"1\" class=\"dataframe\">\n",
       "  <thead>\n",
       "    <tr style=\"text-align: right;\">\n",
       "      <th></th>\n",
       "      <th>Transaction ID</th>\n",
       "      <th>Date of Travel</th>\n",
       "      <th>Company</th>\n",
       "      <th>City</th>\n",
       "      <th>KM Travelled</th>\n",
       "      <th>Price Charged</th>\n",
       "      <th>Cost of Trip</th>\n",
       "      <th>Customer ID</th>\n",
       "      <th>Payment_Mode</th>\n",
       "      <th>Gender</th>\n",
       "      <th>Age</th>\n",
       "      <th>Income (USD/Month)</th>\n",
       "      <th>Population</th>\n",
       "      <th>Users</th>\n",
       "      <th>Year</th>\n",
       "      <th>Month</th>\n",
       "      <th>Day</th>\n",
       "      <th>Profit</th>\n",
       "      <th>Age Group</th>\n",
       "      <th>Share_of_users</th>\n",
       "    </tr>\n",
       "  </thead>\n",
       "  <tbody>\n",
       "    <tr>\n",
       "      <th>0</th>\n",
       "      <td>10000011</td>\n",
       "      <td>2016-01-07</td>\n",
       "      <td>Pink Cab</td>\n",
       "      <td>ATLANTA GA</td>\n",
       "      <td>30.45</td>\n",
       "      <td>370.95</td>\n",
       "      <td>313.635</td>\n",
       "      <td>29290</td>\n",
       "      <td>Card</td>\n",
       "      <td>Male</td>\n",
       "      <td>28</td>\n",
       "      <td>10813</td>\n",
       "      <td>814885</td>\n",
       "      <td>24701</td>\n",
       "      <td>2016</td>\n",
       "      <td>1</td>\n",
       "      <td>3</td>\n",
       "      <td>57.315</td>\n",
       "      <td>20-30</td>\n",
       "      <td>3.031</td>\n",
       "    </tr>\n",
       "    <tr>\n",
       "      <th>1</th>\n",
       "      <td>10000012</td>\n",
       "      <td>2016-01-05</td>\n",
       "      <td>Pink Cab</td>\n",
       "      <td>ATLANTA GA</td>\n",
       "      <td>28.62</td>\n",
       "      <td>358.52</td>\n",
       "      <td>334.854</td>\n",
       "      <td>27703</td>\n",
       "      <td>Card</td>\n",
       "      <td>Male</td>\n",
       "      <td>27</td>\n",
       "      <td>9237</td>\n",
       "      <td>814885</td>\n",
       "      <td>24701</td>\n",
       "      <td>2016</td>\n",
       "      <td>1</td>\n",
       "      <td>1</td>\n",
       "      <td>23.666</td>\n",
       "      <td>20-30</td>\n",
       "      <td>3.031</td>\n",
       "    </tr>\n",
       "    <tr>\n",
       "      <th>2</th>\n",
       "      <td>10000013</td>\n",
       "      <td>2016-01-01</td>\n",
       "      <td>Pink Cab</td>\n",
       "      <td>ATLANTA GA</td>\n",
       "      <td>9.04</td>\n",
       "      <td>125.20</td>\n",
       "      <td>97.632</td>\n",
       "      <td>28712</td>\n",
       "      <td>Cash</td>\n",
       "      <td>Male</td>\n",
       "      <td>53</td>\n",
       "      <td>11242</td>\n",
       "      <td>814885</td>\n",
       "      <td>24701</td>\n",
       "      <td>2016</td>\n",
       "      <td>1</td>\n",
       "      <td>4</td>\n",
       "      <td>27.568</td>\n",
       "      <td>50-60</td>\n",
       "      <td>3.031</td>\n",
       "    </tr>\n",
       "    <tr>\n",
       "      <th>3</th>\n",
       "      <td>10000014</td>\n",
       "      <td>2016-01-06</td>\n",
       "      <td>Pink Cab</td>\n",
       "      <td>ATLANTA GA</td>\n",
       "      <td>33.17</td>\n",
       "      <td>377.40</td>\n",
       "      <td>351.602</td>\n",
       "      <td>28020</td>\n",
       "      <td>Cash</td>\n",
       "      <td>Male</td>\n",
       "      <td>23</td>\n",
       "      <td>23327</td>\n",
       "      <td>814885</td>\n",
       "      <td>24701</td>\n",
       "      <td>2016</td>\n",
       "      <td>1</td>\n",
       "      <td>2</td>\n",
       "      <td>25.798</td>\n",
       "      <td>20-30</td>\n",
       "      <td>3.031</td>\n",
       "    </tr>\n",
       "    <tr>\n",
       "      <th>4</th>\n",
       "      <td>10000015</td>\n",
       "      <td>2016-01-02</td>\n",
       "      <td>Pink Cab</td>\n",
       "      <td>ATLANTA GA</td>\n",
       "      <td>8.73</td>\n",
       "      <td>114.62</td>\n",
       "      <td>97.776</td>\n",
       "      <td>27182</td>\n",
       "      <td>Card</td>\n",
       "      <td>Male</td>\n",
       "      <td>33</td>\n",
       "      <td>8536</td>\n",
       "      <td>814885</td>\n",
       "      <td>24701</td>\n",
       "      <td>2016</td>\n",
       "      <td>1</td>\n",
       "      <td>5</td>\n",
       "      <td>16.844</td>\n",
       "      <td>30-40</td>\n",
       "      <td>3.031</td>\n",
       "    </tr>\n",
       "  </tbody>\n",
       "</table>\n",
       "</div>"
      ],
      "text/plain": [
       "   Transaction ID Date of Travel   Company        City  KM Travelled  \\\n",
       "0        10000011     2016-01-07  Pink Cab  ATLANTA GA         30.45   \n",
       "1        10000012     2016-01-05  Pink Cab  ATLANTA GA         28.62   \n",
       "2        10000013     2016-01-01  Pink Cab  ATLANTA GA          9.04   \n",
       "3        10000014     2016-01-06  Pink Cab  ATLANTA GA         33.17   \n",
       "4        10000015     2016-01-02  Pink Cab  ATLANTA GA          8.73   \n",
       "\n",
       "   Price Charged  Cost of Trip  Customer ID Payment_Mode Gender  Age  \\\n",
       "0         370.95       313.635        29290         Card   Male   28   \n",
       "1         358.52       334.854        27703         Card   Male   27   \n",
       "2         125.20        97.632        28712         Cash   Male   53   \n",
       "3         377.40       351.602        28020         Cash   Male   23   \n",
       "4         114.62        97.776        27182         Card   Male   33   \n",
       "\n",
       "   Income (USD/Month)  Population  Users  Year  Month  Day  Profit Age Group  \\\n",
       "0               10813      814885  24701  2016      1    3  57.315     20-30   \n",
       "1                9237      814885  24701  2016      1    1  23.666     20-30   \n",
       "2               11242      814885  24701  2016      1    4  27.568     50-60   \n",
       "3               23327      814885  24701  2016      1    2  25.798     20-30   \n",
       "4                8536      814885  24701  2016      1    5  16.844     30-40   \n",
       "\n",
       "   Share_of_users  \n",
       "0           3.031  \n",
       "1           3.031  \n",
       "2           3.031  \n",
       "3           3.031  \n",
       "4           3.031  "
      ]
     },
     "execution_count": 2,
     "metadata": {},
     "output_type": "execute_result"
    }
   ],
   "source": [
    "df = pd.read_csv('df.csv')\n",
    "df.head()"
   ]
  },
  {
   "cell_type": "markdown",
   "metadata": {},
   "source": [
    "# <font color = #32CD32> Part 2: Data preprocessing"
   ]
  },
  {
   "cell_type": "code",
   "execution_count": 3,
   "metadata": {},
   "outputs": [],
   "source": [
    "# Choose features\n",
    "features = df.drop(columns=['Transaction ID', 'Date of Travel', 'Price Charged', 'Cost of Trip', 'Profit', 'Share_of_users']).columns\n",
    "\n",
    "X_data = df[features]\n",
    "y_data = df['Profit']"
   ]
  },
  {
   "cell_type": "markdown",
   "metadata": {},
   "source": [
    "### <h2> Train and test splitting </h2>"
   ]
  },
  {
   "cell_type": "code",
   "execution_count": 4,
   "metadata": {},
   "outputs": [],
   "source": [
    "# Divide the data into training and test subsets\n",
    "X_train, X_test, y_train, y_test = train_test_split(X_data, y_data, test_size=0.2, random_state=26)"
   ]
  },
  {
   "cell_type": "markdown",
   "metadata": {},
   "source": [
    "### <h2> Scaling and Encoding </h2>"
   ]
  },
  {
   "cell_type": "code",
   "execution_count": 18,
   "metadata": {},
   "outputs": [],
   "source": [
    "# Create columns for categorical and numeric features\n",
    "categorical_features = ['City', 'Payment_Mode', 'Gender', 'Company']\n",
    "\n",
    "numerical_features = ['KM Travelled', 'Age', 'Income (USD/Month)', 'Year', 'Month', 'Day']"
   ]
  },
  {
   "cell_type": "code",
   "execution_count": 6,
   "metadata": {},
   "outputs": [],
   "source": [
    "# Create a preprocessor for columns\n",
    "preprocessor = ColumnTransformer(\n",
    "    transformers=[\n",
    "        ('num', StandardScaler(), numerical_features),\n",
    "        ('cat', OneHotEncoder(drop='first'), categorical_features)\n",
    "    ])"
   ]
  },
  {
   "cell_type": "code",
   "execution_count": 7,
   "metadata": {},
   "outputs": [],
   "source": [
    "# Apply transformations to the train subset\n",
    "X_train = preprocessor.fit_transform(X_train)\n",
    "# Apply transformations to the test subset\n",
    "X_test = preprocessor.transform(X_test)"
   ]
  },
  {
   "cell_type": "code",
   "execution_count": 25,
   "metadata": {},
   "outputs": [
    {
     "name": "stdout",
     "output_type": "stream",
     "text": [
      "['num__KM Travelled' 'num__Age' 'num__Income (USD/Month)' 'num__Year'\n",
      " 'num__Month' 'num__Day' 'cat__City_AUSTIN TX' 'cat__City_BOSTON MA'\n",
      " 'cat__City_CHICAGO IL' 'cat__City_DALLAS TX' 'cat__City_DENVER CO'\n",
      " 'cat__City_LOS ANGELES CA' 'cat__City_MIAMI FL' 'cat__City_NASHVILLE TN'\n",
      " 'cat__City_NEW YORK NY' 'cat__City_ORANGE COUNTY' 'cat__City_PHOENIX AZ'\n",
      " 'cat__City_PITTSBURGH PA' 'cat__City_SACRAMENTO CA'\n",
      " 'cat__City_SAN DIEGO CA' 'cat__City_SEATTLE WA'\n",
      " 'cat__City_SILICON VALLEY' 'cat__City_TUCSON AZ'\n",
      " 'cat__City_WASHINGTON DC' 'cat__Payment_Mode_Cash' 'cat__Gender_Male'\n",
      " 'cat__Company_Yellow Cab']\n"
     ]
    }
   ],
   "source": [
    "# Get feature names after transformation\n",
    "feature_names = preprocessor.get_feature_names_out()\n",
    "# Print or save feature names\n",
    "print(feature_names)"
   ]
  },
  {
   "cell_type": "code",
   "execution_count": 26,
   "metadata": {},
   "outputs": [],
   "source": [
    "# Save the preprocessor\n",
    "with open('preprocessor.pkl', 'wb') as f:\n",
    "    pickle.dump(preprocessor, f)"
   ]
  },
  {
   "cell_type": "markdown",
   "metadata": {},
   "source": [
    "# <font color = #32CD32> Part 3: Modeling"
   ]
  },
  {
   "cell_type": "markdown",
   "metadata": {},
   "source": [
    "### <h2> Linear Regression </h2>"
   ]
  },
  {
   "cell_type": "code",
   "execution_count": 8,
   "metadata": {},
   "outputs": [
    {
     "name": "stdout",
     "output_type": "stream",
     "text": [
      "MSE LR: 10312.174321701985\n"
     ]
    }
   ],
   "source": [
    "# Create a model\n",
    "model_lr = LinearRegression()\n",
    "# train a model\n",
    "model_lr.fit(X_train, y_train)\n",
    "\n",
    "# predictions\n",
    "y_pred_lr = model_lr.predict(X_test)\n",
    "# MSE\n",
    "mse_lr = mean_squared_error(y_test, y_pred_lr)\n",
    "print(f'MSE LR: {mse_lr}')"
   ]
  },
  {
   "cell_type": "markdown",
   "metadata": {},
   "source": [
    "### <h2> Lasso </h2>"
   ]
  },
  {
   "cell_type": "code",
   "execution_count": 11,
   "metadata": {},
   "outputs": [
    {
     "name": "stdout",
     "output_type": "stream",
     "text": [
      "MSE Lasso: 10507.815689910074\n"
     ]
    }
   ],
   "source": [
    "# Create a model\n",
    "model_lasso = Lasso(alpha=1)\n",
    "# train a model\n",
    "model_lasso.fit(X_train, y_train)\n",
    "\n",
    "# predictions\n",
    "y_pred_lasso = model_lasso.predict(X_test)\n",
    "# MSE\n",
    "mse_lasso = mean_squared_error(y_test, y_pred_lasso)\n",
    "print(f'MSE Lasso: {mse_lasso}')"
   ]
  },
  {
   "cell_type": "markdown",
   "metadata": {},
   "source": [
    "### <h2> Ridge </h2>"
   ]
  },
  {
   "cell_type": "code",
   "execution_count": 12,
   "metadata": {},
   "outputs": [
    {
     "name": "stdout",
     "output_type": "stream",
     "text": [
      "MSE Ridge: 10312.174314410899\n"
     ]
    }
   ],
   "source": [
    "# Create a model\n",
    "model_ridge = Ridge(alpha=1)\n",
    "# train a model\n",
    "model_ridge.fit(X_train, y_train)\n",
    "\n",
    "# predictions\n",
    "y_pred_ridge = model_ridge.predict(X_test)\n",
    "# MSE\n",
    "mse_ridge = mean_squared_error(y_test, y_pred_ridge)\n",
    "print(f'MSE Ridge: {mse_ridge}')"
   ]
  },
  {
   "cell_type": "markdown",
   "metadata": {},
   "source": [
    "### <h2> Random Forest </h2>"
   ]
  },
  {
   "cell_type": "code",
   "execution_count": 74,
   "metadata": {},
   "outputs": [
    {
     "name": "stdout",
     "output_type": "stream",
     "text": [
      "MSE RF: 5151.276584713742\n"
     ]
    }
   ],
   "source": [
    "# Create a model\n",
    "rf_model = RandomForestRegressor(n_estimators=100, random_state=26)\n",
    "# train a model\n",
    "rf_model.fit(X_train, y_train)\n",
    "\n",
    "# predictions\n",
    "y_pred_rf = rf_model.predict(X_test)\n",
    "# MSE\n",
    "mse_rf = mean_squared_error(y_test, y_pred_rf)\n",
    "print(f'MSE RF: {mse_rf}')"
   ]
  },
  {
   "cell_type": "markdown",
   "metadata": {},
   "source": [
    "### <h2> XGBoost </h2>"
   ]
  },
  {
   "cell_type": "code",
   "execution_count": 22,
   "metadata": {},
   "outputs": [
    {
     "name": "stdout",
     "output_type": "stream",
     "text": [
      "MSE XGBoost Regressor: 4781.124801964232\n"
     ]
    }
   ],
   "source": [
    "# Create a model\n",
    "xgb_model = XGBRegressor(n_estimators=150, random_state=26)\n",
    "# train a model\n",
    "xgb_model.fit(X_train, y_train)\n",
    "\n",
    "# predictions\n",
    "y_pred_xgb = xgb_model.predict(X_test)\n",
    "# MSE\n",
    "mse_xgb = mean_squared_error(y_test, y_pred_xgb)\n",
    "print(f'MSE XGBoost Regressor: {mse_xgb}')"
   ]
  },
  {
   "cell_type": "markdown",
   "metadata": {},
   "source": [
    "### <h2> XGBoost with __GridSearchCV__ </h2>"
   ]
  },
  {
   "cell_type": "code",
   "execution_count": 13,
   "metadata": {},
   "outputs": [],
   "source": [
    "# Define a grid of hyperparameters for XGBoost\n",
    "param_grid = {\n",
    "    'n_estimators': [100, 200],\n",
    "    'max_depth': [-1, 3, 6],\n",
    "    'learning_rate': [0.01, 0.1],\n",
    "    'subsample': [0.9, 1.0],\n",
    "    'colsample_bytree': [0.9, 1.0]\n",
    "}"
   ]
  },
  {
   "cell_type": "code",
   "execution_count": 14,
   "metadata": {},
   "outputs": [
    {
     "name": "stdout",
     "output_type": "stream",
     "text": [
      "Fitting 3 folds for each of 48 candidates, totalling 144 fits\n"
     ]
    }
   ],
   "source": [
    "# create XGBoost model\n",
    "xgb = XGBRegressor(random_state=26)\n",
    "\n",
    "# GridSearchCV\n",
    "grid_search = GridSearchCV(estimator=xgb, param_grid=param_grid, cv=3, n_jobs=-1, verbose=2)\n",
    "# train GridSearchCV\n",
    "grid_search.fit(X_train, y_train)\n",
    "\n",
    "# Получаем лучшую модель\n",
    "best_xgb = grid_search.best_estimator_"
   ]
  },
  {
   "cell_type": "code",
   "execution_count": 17,
   "metadata": {},
   "outputs": [
    {
     "name": "stdout",
     "output_type": "stream",
     "text": [
      "MSE XGBoost with GridSearchCV: 4805.492269948905\n"
     ]
    }
   ],
   "source": [
    "# predictions\n",
    "y_pred_xgb_grid = best_xgb.predict(X_test)\n",
    "\n",
    "# MSE\n",
    "mse_xgb_grid = mean_squared_error(y_test, y_pred_xgb_grid)\n",
    "print(f'MSE XGBoost with GridSearchCV: {mse_xgb_grid}')"
   ]
  },
  {
   "cell_type": "markdown",
   "metadata": {},
   "source": [
    "### <h2> Save best model XGBoost </h2>"
   ]
  },
  {
   "cell_type": "code",
   "execution_count": 23,
   "metadata": {},
   "outputs": [
    {
     "name": "stdout",
     "output_type": "stream",
     "text": [
      "Model saved successfully.\n"
     ]
    }
   ],
   "source": [
    "with open('best_xgb_model.pkl', 'wb') as file:\n",
    "    pickle.dump(xgb_model, file)\n",
    "    \n",
    "print(\"Model saved successfully.\")"
   ]
  },
  {
   "cell_type": "code",
   "execution_count": null,
   "metadata": {},
   "outputs": [],
   "source": []
  }
 ],
 "metadata": {
  "kernelspec": {
   "display_name": "time_series",
   "language": "python",
   "name": "python3"
  },
  "language_info": {
   "codemirror_mode": {
    "name": "ipython",
    "version": 3
   },
   "file_extension": ".py",
   "mimetype": "text/x-python",
   "name": "python",
   "nbconvert_exporter": "python",
   "pygments_lexer": "ipython3",
   "version": "3.10.0"
  }
 },
 "nbformat": 4,
 "nbformat_minor": 2
}
